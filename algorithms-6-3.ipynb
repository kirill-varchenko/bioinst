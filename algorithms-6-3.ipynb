{
 "cells": [
  {
   "cell_type": "code",
   "execution_count": 1,
   "metadata": {},
   "outputs": [],
   "source": [
    "import numpy as np"
   ]
  },
  {
   "cell_type": "code",
   "execution_count": 2,
   "metadata": {},
   "outputs": [],
   "source": [
    "def viterbi(states, obs, pi, a, b, O):\n",
    "    \"\"\"\n",
    "    Viterbi algorithm\n",
    "    \n",
    "    states : list of possible states\n",
    "    obs : list of observations\n",
    "    pi : array of initial probabilities\n",
    "    a : transition matrix\n",
    "    b : emission matrix\n",
    "    O : sequence of observations\n",
    "    \"\"\"\n",
    "\n",
    "    N = [obs.index(o) for o in O]\n",
    "        \n",
    "    for i, o in enumerate(N):\n",
    "        if i == 0:\n",
    "            delta = [pi*b[:, o]]\n",
    "            psi = [None]\n",
    "        else:\n",
    "            step = np.multiply(b[:, o].reshape(2,1), np.multiply(a, delta[i-1]))\n",
    "            delta.append(np.amax(step, axis=1))\n",
    "            psi.append(np.argmax(step, axis=1))\n",
    "    \n",
    "    i = np.argmax(delta[-1])\n",
    "    res = [states[i]]\n",
    "    for t in range(len(delta)-1, 0, -1):\n",
    "        i = psi[t][i]\n",
    "        res = [states[i]] + res\n",
    "    \n",
    "    return res"
   ]
  },
  {
   "cell_type": "code",
   "execution_count": 12,
   "metadata": {},
   "outputs": [],
   "source": [
    "def forward_backward(states, obs, pi, a, b, O):\n",
    "    \"\"\"\n",
    "    Forward-backward algorithm\n",
    "    \n",
    "    states : list of possible states\n",
    "    obs : list of observations\n",
    "    pi : array of initial probabilities\n",
    "    a : transition matrix\n",
    "    b : emission matrix\n",
    "    O : sequence of observations\n",
    "    \"\"\"\n",
    "    N = [obs.index(o) for o in O]\n",
    "    \n",
    "    alpha = None\n",
    "    for o in N:\n",
    "        if alpha is None:\n",
    "            alpha = [pi*b[:, o]]\n",
    "        else:\n",
    "            step = np.diag(b[:, o]) @ a @ alpha[-1]\n",
    "            alpha.append(step)\n",
    "    \n",
    "    beta = [np.array([1, 1])]\n",
    "    for o in reversed(N):\n",
    "        step = a @ np.diag(b[:, o]) @ beta[0]\n",
    "        beta.insert(0, step)\n",
    "    \n",
    "    res = []\n",
    "    for alpha_t, beta_t in zip(alpha, beta):\n",
    "        res.append(alpha_t*beta_t/sum(alpha_t*beta_t))\n",
    "    \n",
    "    return res"
   ]
  },
  {
   "cell_type": "code",
   "execution_count": 6,
   "metadata": {},
   "outputs": [],
   "source": [
    "tests = {'1': {\n",
    "    'pi': np.array([0.5, 0.5]),\n",
    "    'a': np.array([[0.8, 0.2], [0.2, 0.8]]),\n",
    "    'b': np.array([[0.5, 0.5], [0.1, 0.9]]),\n",
    "    'states': ['1', '2'],\n",
    "    'obs': ['О', 'Р'],\n",
    "    'O': 'ОРОРОРООРРРРРРРРРРОООООООО'},\n",
    " '2': {\n",
    "    'pi': np.array([0.5, 0.5]),\n",
    "    'a': np.array([[0.5, 0.5], [0.5, 0.5]]),\n",
    "    'b': np.array([[0.5, 0.5], [0.51, 0.49]]),\n",
    "    'states': ['1', '2'],\n",
    "    'obs': ['О', 'Р'],\n",
    "    'O': 'ОРОРОРООРРРРРРРРРРОООООООО'}\n",
    "}"
   ]
  },
  {
   "cell_type": "code",
   "execution_count": 26,
   "metadata": {},
   "outputs": [
    {
     "name": "stdout",
     "output_type": "stream",
     "text": [
      "Номер теста: 1\n"
     ]
    }
   ],
   "source": [
    "test = input('Номер теста: ')"
   ]
  },
  {
   "cell_type": "code",
   "execution_count": 27,
   "metadata": {},
   "outputs": [],
   "source": [
    "vit_res = viterbi(**tests[test])\n",
    "fb_res = forward_backward(**tests[test])"
   ]
  },
  {
   "cell_type": "code",
   "execution_count": 28,
   "metadata": {},
   "outputs": [
    {
     "name": "stdout",
     "output_type": "stream",
     "text": [
      "1    1    1    1    1    1    1    1    2    2    2    2    2    2    2    2    2    2    1    1    1    1    1    1    1    1\n",
      "0.93 0.61 0.94 0.63 0.94 0.64 0.94 0.95 0.46 0.27 0.19 0.15 0.14 0.13 0.14 0.15 0.19 0.28 0.89 0.96 0.98 0.98 0.98 0.98 0.98 0.97\n",
      "0.07 0.39 0.06 0.37 0.06 0.36 0.06 0.05 0.54 0.73 0.81 0.85 0.86 0.87 0.86 0.85 0.81 0.72 0.11 0.04 0.02 0.02 0.02 0.02 0.02 0.03\n"
     ]
    }
   ],
   "source": [
    "print('    '.join(vit_res))\n",
    "print(' '.join([f'{p[0]:0.2f}' for p in fb_res]))\n",
    "print(' '.join([f'{p[1]:0.2f}' for p in fb_res]))"
   ]
  },
  {
   "cell_type": "code",
   "execution_count": null,
   "metadata": {},
   "outputs": [],
   "source": []
  }
 ],
 "metadata": {
  "kernelspec": {
   "display_name": "Python 3",
   "language": "python",
   "name": "python3"
  },
  "language_info": {
   "codemirror_mode": {
    "name": "ipython",
    "version": 3
   },
   "file_extension": ".py",
   "mimetype": "text/x-python",
   "name": "python",
   "nbconvert_exporter": "python",
   "pygments_lexer": "ipython3",
   "version": "3.7.5"
  }
 },
 "nbformat": 4,
 "nbformat_minor": 2
}
