{
 "cells": [
  {
   "cell_type": "markdown",
   "metadata": {},
   "source": [
    "#  Локальное выравнивание (алгоритм Смита-Ватермана)"
   ]
  },
  {
   "cell_type": "code",
   "execution_count": 4,
   "metadata": {},
   "outputs": [],
   "source": [
    "def smith_waterman0(A, B, mu = -1, delta = -1):\n",
    "    \"\"\"\n",
    "        Smith–Waterman algorithm for local sequience alignment with match score equal +1 and linear gap penalty.\n",
    "\n",
    "        Parameters\n",
    "        ----------\n",
    "        A, B : str\n",
    "            Two sequiences\n",
    "        mu : num, optional\n",
    "            Mismatch penalty (default is -1)\n",
    "        delta : num, optional\n",
    "            Gap penalty (default is -1)\n",
    "        \"\"\"\n",
    "\n",
    "    n = len(A)\n",
    "    m = len(B)\n",
    "\n",
    "    # Initial score table\n",
    "    T = [[0] * (n+1) for _ in range(m+1)]\n",
    "\n",
    "    # Max score and coords\n",
    "    score_max, i_max, j_max = 0, 0, 0\n",
    "\n",
    "    # Filling the table\n",
    "    for i in range(1, n+1):\n",
    "        for j in range(1, m+1):\n",
    "            candidates = (T[j-1][i-1] + (1 if A[i-1] == B[j-1] else mu), # go from left-top\n",
    "                        T[j-1][i] + delta, # go from top\n",
    "                        T[j][i-1] + delta, # go from left\n",
    "                        0)\n",
    "            T[j][i] = max(candidates)\n",
    "            if T[j][i] > score_max:\n",
    "                score_max, i_max, j_max = T[j][i], i, j\n",
    "\n",
    "    # Tracing path back to origin\n",
    "    i = i_max\n",
    "    j = j_max\n",
    "    A_aligned = ''\n",
    "    B_aligned = ''\n",
    "\n",
    "    while i > 0 or j > 0:\n",
    "        if T[j][i] == 0:\n",
    "            break\n",
    "        i_min, j_min = i, j\n",
    "        if i > 0 and j > 0 and T[j][i] == T[j-1][i-1] + (1 if A[i-1] == B[j-1] else mu):\n",
    "            # Came from left-top \n",
    "            A_aligned = A[i-1] + A_aligned\n",
    "            B_aligned = B[j-1] + B_aligned\n",
    "            i -= 1\n",
    "            j -= 1 \n",
    "        elif j > 0 and T[j][i] == T[j-1][i] + delta:\n",
    "            # Came from top \n",
    "            A_aligned = '_' + A_aligned\n",
    "            B_aligned = B[j-1] + B_aligned\n",
    "            j -= 1\n",
    "        else:\n",
    "            # Came from left\n",
    "            A_aligned = A[i-1] + A_aligned\n",
    "            B_aligned = '_' + B_aligned\n",
    "            i -= 1\n",
    "\n",
    "    # Return two aligned sequiences and total score\n",
    "    A_global = '-'*(j_min-min(i_min, j_min)) + A[:i_min-1] + A_aligned + A[i_max:] + '-'*(m-j_max)\n",
    "    B_global = '-'*(i_min-min(i_min, j_min)) + B[:j_min-1] + B_aligned + B[j_max:] + '-'*(n-i_max)\n",
    "    return A_aligned, B_aligned, A_global, B_global, score_max"
   ]
  },
  {
   "cell_type": "code",
   "execution_count": 5,
   "metadata": {},
   "outputs": [],
   "source": [
    "def local_alignment(seq1, seq2):\n",
    "    A_aligned, B_aligned, A_global, B_global, score_max = smith_waterman0(seq1, seq2)\n",
    "    print(A_global)\n",
    "    print(B_global)"
   ]
  },
  {
   "cell_type": "code",
   "execution_count": 6,
   "metadata": {},
   "outputs": [
    {
     "name": "stdout",
     "output_type": "stream",
     "text": [
      "---ACTGAG\n",
      "GCTACT---\n"
     ]
    }
   ],
   "source": [
    "# Последовательности из задания\n",
    "A = 'ACTGAG'\n",
    "B = 'GCTACT'\n",
    "local_alignment(A, B)"
   ]
  },
  {
   "cell_type": "code",
   "execution_count": 7,
   "metadata": {},
   "outputs": [],
   "source": [
    "def needleman_wunsch0(A, B, mu = -1, delta = -1):\n",
    "    \"\"\"\n",
    "        Needleman-Wunsch algorithm for sequience alignment with match score equal +1.\n",
    "\n",
    "        Parameters\n",
    "        ----------\n",
    "        A, B : str\n",
    "            Two sequiences\n",
    "        mu : num, optional\n",
    "            Mismatch penalty (default is -1)\n",
    "        delta : num, optional\n",
    "            Gap penalty (default is -1)\n",
    "        \"\"\"\n",
    "\n",
    "    n = len(A)\n",
    "    m = len(B)\n",
    "\n",
    "    # Initial score table\n",
    "    T = [[delta*i for i in range(n+1)] if j == 0 else [delta*j] + [0]*n for j in range(m+1)]\n",
    "\n",
    "    # Filling the table\n",
    "    for i in range(1, n+1):\n",
    "        for j in range(1, m+1):\n",
    "            candidates = (T[j-1][i-1] + (1 if A[i-1] == B[j-1] else mu), # go from left-top\n",
    "                        T[j-1][i] + delta, # go from top\n",
    "                        T[j][i-1] + delta) # go from left\n",
    "            T[j][i] = max(candidates)\n",
    "\n",
    "\n",
    "    # Tracing path back to origin\n",
    "    i = n\n",
    "    j = m\n",
    "    A_aligned = ''\n",
    "    B_aligned = ''\n",
    "\n",
    "    while i > 0 or j > 0:\n",
    "        if i > 0 and j > 0 and T[j][i] == T[j-1][i-1] + (1 if A[i-1] == B[j-1] else mu):\n",
    "            # Came from left-top \n",
    "            A_aligned = A[i-1] + A_aligned\n",
    "            B_aligned = B[j-1] + B_aligned\n",
    "            i -= 1\n",
    "            j -= 1 \n",
    "        elif j > 0 and T[j][i] == T[j-1][i] + delta:\n",
    "            # Came from top \n",
    "            A_aligned = '_' + A_aligned\n",
    "            B_aligned = B[j-1] + B_aligned\n",
    "            j -= 1\n",
    "        else:\n",
    "            # Came from left\n",
    "            A_aligned = A[i-1] + A_aligned\n",
    "            B_aligned = '_' + B_aligned\n",
    "            i -= 1\n",
    "\n",
    "    # Return two aligned sequiences and total score\n",
    "    return A_aligned, B_aligned, T[m][n]"
   ]
  },
  {
   "cell_type": "code",
   "execution_count": 10,
   "metadata": {},
   "outputs": [],
   "source": [
    "# Сравнение локального и глобального выравниваний"
   ]
  },
  {
   "cell_type": "code",
   "execution_count": 8,
   "metadata": {},
   "outputs": [
    {
     "name": "stdout",
     "output_type": "stream",
     "text": [
      "----GCATGCU\n",
      "GATTACA----\n"
     ]
    }
   ],
   "source": [
    "# Локальное\n",
    "A = 'GCATGCU'\n",
    "B = 'GATTACA'\n",
    "local_alignment(A, B)"
   ]
  },
  {
   "cell_type": "code",
   "execution_count": 9,
   "metadata": {},
   "outputs": [
    {
     "name": "stdout",
     "output_type": "stream",
     "text": [
      "GCA_TGCU\n",
      "G_ATTACA\n"
     ]
    }
   ],
   "source": [
    "# Глобальное\n",
    "a, b, t = needleman_wunsch0(A, B)\n",
    "print(a)\n",
    "print(b)"
   ]
  },
  {
   "cell_type": "code",
   "execution_count": null,
   "metadata": {},
   "outputs": [],
   "source": []
  }
 ],
 "metadata": {
  "kernelspec": {
   "display_name": "Python 3",
   "language": "python",
   "name": "python3"
  },
  "language_info": {
   "codemirror_mode": {
    "name": "ipython",
    "version": 3
   },
   "file_extension": ".py",
   "mimetype": "text/x-python",
   "name": "python",
   "nbconvert_exporter": "python",
   "pygments_lexer": "ipython3",
   "version": "3.7.5"
  }
 },
 "nbformat": 4,
 "nbformat_minor": 2
}
