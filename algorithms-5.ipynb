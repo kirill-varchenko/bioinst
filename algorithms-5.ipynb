{
 "cells": [
  {
   "cell_type": "code",
   "execution_count": 1,
   "metadata": {},
   "outputs": [],
   "source": [
    "def dict_min(D):\n",
    "    m, i, j = None, None, None\n",
    "    for a, b in D:\n",
    "        if m is None or D[(a,b)] < m:\n",
    "            m, i, j = D[(a,b)], a, b\n",
    "    return i, j"
   ]
  },
  {
   "cell_type": "code",
   "execution_count": 2,
   "metadata": {},
   "outputs": [],
   "source": [
    "def dict_flat(D):\n",
    "    res = dict()\n",
    "    for a in D:\n",
    "        for b in D[a]:\n",
    "            res[(a,b)] = D[a][b]\n",
    "    return res"
   ]
  },
  {
   "cell_type": "code",
   "execution_count": 3,
   "metadata": {},
   "outputs": [],
   "source": [
    "def nested_len(X):\n",
    "    if type(X) is tuple:\n",
    "        res = 0\n",
    "        for x in X:\n",
    "            res += nested_len(x)\n",
    "    else:\n",
    "        res = 1\n",
    "    return res"
   ]
  },
  {
   "cell_type": "code",
   "execution_count": 19,
   "metadata": {},
   "outputs": [],
   "source": [
    "def newick(structure):\n",
    "    lastkey = list(structure.keys())[-1]\n",
    "    \n",
    "    def helper(node, parent_len):\n",
    "        a, b = node\n",
    "        if type(a) is tuple:\n",
    "            l = helper(a, structure[node])\n",
    "        else:\n",
    "            l = f'{a}:{parent_len:.2f}'\n",
    "        if type(b) is tuple:\n",
    "            r = helper(b, structure[node])\n",
    "        else:\n",
    "            r = f'{b}:{parent_len:.2f}'\n",
    "        return f'({l},{r}):{parent_len-structure[node]:.2f}'\n",
    "        \n",
    "    res = helper(lastkey, structure[lastkey])\n",
    "    return res.replace(':0.00', ';')"
   ]
  },
  {
   "cell_type": "code",
   "execution_count": 47,
   "metadata": {},
   "outputs": [],
   "source": [
    "def WPGMA(dist):\n",
    "    res = dict()\n",
    "    M = dict_flat(dist)\n",
    "    \n",
    "    while len(M) > 0:\n",
    "        i, j = dict_min(M)\n",
    "        newM = dict()\n",
    "        for a, b in M:\n",
    "            if a in (i, j) and b in (i, j):\n",
    "                res[(i,j)] = M[(i,j)]/2\n",
    "            elif a in (i, j):\n",
    "                newM[((i,j), b)] = (M[(i,b) if (i,b) in M else (b,i)] + M[(j,b) if (j,b) in M else (b,j)])/2\n",
    "            elif b in (i, j):\n",
    "                newM[(a, (i,j))] = (M[(a,i) if (a,i) in M else (i,a)] + M[(a,j) if (a,j) in M else (j,a)])/2\n",
    "            else:\n",
    "                newM[(a,b)] = M[(a,b)]\n",
    "        M = newM\n",
    "\n",
    "    return newick(res)"
   ]
  },
  {
   "cell_type": "code",
   "execution_count": 48,
   "metadata": {},
   "outputs": [],
   "source": [
    "def UPGMA(dist):\n",
    "    res = dict()\n",
    "    M = dict_flat(dist)\n",
    "    \n",
    "    while len(M) > 0:\n",
    "        i, j = dict_min(M)\n",
    "        i_len = nested_len(i)\n",
    "        j_len = nested_len(j)\n",
    "        newM = dict()\n",
    "        for a, b in M:\n",
    "            if a in (i, j) and b in (i, j):\n",
    "                res[(i,j)] = M[(i,j)]/2\n",
    "            elif a in (i, j):\n",
    "                newM[((i,j), b)] = (i_len*M[(i,b) if (i,b) in M else (b,i)] + j_len*M[(j,b) if (j,b) in M else (b,j)])/(i_len+j_len)\n",
    "            elif b in (i, j):\n",
    "                newM[(a, (i,j))] = (i_len*M[(a,i) if (a,i) in M else (i,a)] + j_len*M[(a,j) if (a,j) in M else (j,a)])/(i_len+j_len)\n",
    "            else:\n",
    "                newM[(a,b)] = M[(a,b)]\n",
    "        M = newM\n",
    "    \n",
    "    return newick(res)"
   ]
  },
  {
   "cell_type": "code",
   "execution_count": 4,
   "metadata": {},
   "outputs": [],
   "source": [
    "def NJ(dist):\n",
    "    n = len(dist)+1\n",
    "    M = dict_flat(dist)\n",
    "    \n",
    "    res = dict()\n",
    "    \n",
    "    while n > 2:   \n",
    "        Q = dict()\n",
    "\n",
    "        for a, b in M:\n",
    "            q = (n-3)*M[(a,b)]\n",
    "            for i,j in M:\n",
    "                if (a in (i,j) or b in (i,j)):\n",
    "                    q -= M[(i,j)]\n",
    "            Q[(a,b)] = q\n",
    "        print(Q)\n",
    "\n",
    "        a, b = dict_min(Q)\n",
    "\n",
    "        da = 0\n",
    "        for i, j in M:\n",
    "            if a in (i,j):\n",
    "                da += M[(i, j)]\n",
    "            if b in (i,j):\n",
    "                da -= M[(i, j)]\n",
    "        da /= 2*(n-2)\n",
    "        da += M[(a, b)]/2\n",
    "        db = M[(a, b)] - da\n",
    "\n",
    "        res[(a,b)] = (da, db)\n",
    "\n",
    "        newM = dict()\n",
    "        for i, j in M:\n",
    "            if (i,j) != (a,b):\n",
    "                if i in (a,b):\n",
    "                    newM[(j, (a,b))] = (M[(a,j) if (a,j) in M else (j,a)] + M[(b,j) if (b,j) in M else (j,b)] - M[(a,b)])/2\n",
    "                elif j in (a,b):\n",
    "                    newM[(i, (a,b))] = (M[(a,i) if (a,i) in M else (i,a)] + M[(b,i) if (b,i) in M else (i,b)] - M[(a,b)])/2\n",
    "                else:\n",
    "                    newM[(i,j)] = M[(i,j)]\n",
    "        n -= 1\n",
    "        M = newM\n",
    "\n",
    "    lastkey = list(M.keys())[0]\n",
    "    res[lastkey] = (M[lastkey], M[lastkey])\n",
    "    \n",
    "    def helper(node):\n",
    "        a, b = node\n",
    "        a_len, b_len = res[node]\n",
    "        if type(a) is tuple:\n",
    "            l = helper(a) + f':{a_len:.2f}'\n",
    "        else:\n",
    "            l = f'{a}:{a_len:.2f}'\n",
    "        if type(b) is tuple:\n",
    "            r = helper(b) + f':{b_len:.2f}'\n",
    "        else:\n",
    "            r = f'{b}:{b_len:.2f}'\n",
    "        return f'({l},{r})'\n",
    "    \n",
    "    return helper(lastkey) + ';'"
   ]
  },
  {
   "cell_type": "code",
   "execution_count": 5,
   "metadata": {},
   "outputs": [],
   "source": [
    "test1 = {'A': {'B': 16, 'C': 16, 'D': 10}, \n",
    "         'B': {'C': 8, 'D': 8}, \n",
    "         'C': {'D': 4}}\n",
    "test2 = {'A': {'B': 5, 'C': 4, 'D': 7, 'E': 6, 'F': 8}, \n",
    "         'B': {'C': 7, 'D': 10, 'E': 9, 'F': 11},\n",
    "         'C': {'D': 7, 'E': 6, 'F': 8},\n",
    "         'D': {'E': 5, 'F': 9},\n",
    "         'E': {'F': 8}}"
   ]
  },
  {
   "cell_type": "code",
   "execution_count": 6,
   "metadata": {},
   "outputs": [],
   "source": [
    "test3 = {'A': {'B': 17, 'C': 21, 'D': 31, 'E': 23}, \n",
    "         'B': {'C': 30, 'D': 34, 'E': 21},\n",
    "         'C': {'D': 28, 'E': 39},\n",
    "         'D': {'E': 43},\n",
    "         'E': {}}"
   ]
  },
  {
   "cell_type": "code",
   "execution_count": 7,
   "metadata": {},
   "outputs": [],
   "source": [
    "test4 = {'B': {'A': 19},\n",
    "'C': {'A': 27, 'B': 31},\n",
    "'D': {'A': 8, 'B': 18, 'C': 26},\n",
    "'E': {'A': 33, 'B': 36, 'C': 41, 'D': 31},\n",
    "'F': {'A': 18, 'B': 1, 'C': 32, 'D': 17, 'E': 35},\n",
    "'G': {'A': 13, 'B': 13, 'C': 29, 'D': 14, 'E': 28, 'F': 12}}"
   ]
  },
  {
   "cell_type": "code",
   "execution_count": 8,
   "metadata": {},
   "outputs": [],
   "source": [
    "test5 = {'b': {'a': 5},\n",
    "'c': {'a': 9, 'b': 10},\n",
    "'d': {'a': 9, 'b': 10, 'c':8},\n",
    "'e': {'a': 8, 'b': 9, 'c': 7, 'd': 3}}"
   ]
  },
  {
   "cell_type": "code",
   "execution_count": 9,
   "metadata": {},
   "outputs": [],
   "source": [
    "test6 = {'B': {'A': 5},\n",
    "'C': {'A': 4, 'B': 7},\n",
    "'D': {'A': 7, 'B': 10, 'C': 7},\n",
    "'E': {'A': 6, 'B': 9, 'C': 6, 'D': 5},\n",
    "'F': {'A': 8, 'B': 11, 'C': 8, 'D': 9, 'E': 8}}"
   ]
  },
  {
   "cell_type": "code",
   "execution_count": 15,
   "metadata": {},
   "outputs": [],
   "source": [
    "test7 = {'2': {'1': 7},\n",
    "'3': {'1': 8, '2': 5},\n",
    "'4': {'1': 11, '2': 8, '3': 5},\n",
    "'5': {'1': 13, '2': 10, '3': 7, '4': 8},\n",
    "'6': {'1': 16, '2': 13, '3': 10, '4': 11, '5': 5},\n",
    "'7': {'1': 13, '2': 10, '3': 7, '4': 8, '5': 6, '6': 9},\n",
    "'8': {'1': 17, '2': 14, '3': 11, '4': 12, '5': 10, '6': 13, '7': 8}}"
   ]
  },
  {
   "cell_type": "code",
   "execution_count": 27,
   "metadata": {},
   "outputs": [],
   "source": [
    "tests = {'1': test1, '2': test2, '3': test3, '4': test4, '5': test5, '6': test6}"
   ]
  },
  {
   "cell_type": "code",
   "execution_count": 28,
   "metadata": {},
   "outputs": [
    {
     "name": "stdout",
     "output_type": "stream",
     "text": [
      "test: 2\n"
     ]
    }
   ],
   "source": [
    "test = input('test: ')"
   ]
  },
  {
   "cell_type": "code",
   "execution_count": 24,
   "metadata": {},
   "outputs": [],
   "source": [
    "test = '2'"
   ]
  },
  {
   "cell_type": "code",
   "execution_count": 49,
   "metadata": {},
   "outputs": [
    {
     "data": {
      "text/plain": [
       "'((((A:3.00,C:3.00):1.00,B:3.75):0.75,(D:3.75,E:3.75):1.25):0.65,F:4.40);'"
      ]
     },
     "execution_count": 49,
     "metadata": {},
     "output_type": "execute_result"
    }
   ],
   "source": [
    "UPGMA(tests[test])"
   ]
  },
  {
   "cell_type": "code",
   "execution_count": 50,
   "metadata": {},
   "outputs": [
    {
     "data": {
      "text/plain": [
       "'((((A:3.00,C:3.00):1.00,B:4.00):1.00,(D:4.00,E:4.00):1.50):0.50,F:4.50);'"
      ]
     },
     "execution_count": 50,
     "metadata": {},
     "output_type": "execute_result"
    }
   ],
   "source": [
    "WPGMA(tests[test])"
   ]
  },
  {
   "cell_type": "code",
   "execution_count": 14,
   "metadata": {},
   "outputs": [
    {
     "name": "stdout",
     "output_type": "stream",
     "text": [
      "{('A', 'B'): -42, ('A', 'C'): -38, ('A', 'D'): -44, ('B', 'C'): -44, ('B', 'D'): -38, ('C', 'D'): -42}\n",
      "{('B', ('A', 'D')): -20.0, ('C', ('A', 'D')): -20.0, ('B', 'C'): -20.0}\n"
     ]
    },
    {
     "data": {
      "text/plain": [
       "'(C:3.00,(B:5.00,(A:10.00,D:0.00):2.00):3.00);'"
      ]
     },
     "execution_count": 14,
     "metadata": {},
     "output_type": "execute_result"
    }
   ],
   "source": [
    "NJ(tests[test])"
   ]
  },
  {
   "cell_type": "code",
   "execution_count": 16,
   "metadata": {},
   "outputs": [
    {
     "name": "stdout",
     "output_type": "stream",
     "text": [
      "{('2', '1'): -110, ('3', '1'): -90, ('3', '2'): -90, ('4', '1'): -82, ('4', '2'): -82, ('4', '3'): -86, ('5', '1'): -66, ('5', '2'): -66, ('5', '3'): -70, ('5', '4'): -74, ('6', '1'): -66, ('6', '2'): -66, ('6', '3'): -70, ('6', '4'): -74, ('6', '5'): -106, ('7', '1'): -68, ('7', '2'): -68, ('7', '3'): -72, ('7', '4'): -76, ('7', '5'): -84, ('7', '6'): -84, ('8', '1'): -68, ('8', '2'): -68, ('8', '3'): -72, ('8', '4'): -76, ('8', '5'): -84, ('8', '6'): -84, ('8', '7'): -98}\n",
      "{('3', ('2', '1')): -76.0, ('4', ('2', '1')): -68.0, ('4', '3'): -68.0, ('5', ('2', '1')): -52.0, ('5', '3'): -52.0, ('5', '4'): -54.0, ('6', ('2', '1')): -52.0, ('6', '3'): -52.0, ('6', '4'): -54.0, ('6', '5'): -78.0, ('7', ('2', '1')): -54.0, ('7', '3'): -54.0, ('7', '4'): -56.0, ('7', '5'): -60.0, ('7', '6'): -60.0, ('8', ('2', '1')): -54.0, ('8', '3'): -54.0, ('8', '4'): -56.0, ('8', '5'): -60.0, ('8', '6'): -60.0, ('8', '7'): -72.0}\n",
      "{('3', ('2', '1')): -56.0, ('4', ('2', '1')): -50.0, ('4', '3'): -50.0, (('2', '1'), ('6', '5')): -42.0, ('3', ('6', '5')): -42.0, ('4', ('6', '5')): -44.0, ('7', ('2', '1')): -40.0, ('7', '3'): -40.0, ('7', '4'): -42.0, ('7', ('6', '5')): -50.0, ('8', ('2', '1')): -40.0, ('8', '3'): -40.0, ('8', '4'): -42.0, ('8', ('6', '5')): -50.0, ('8', '7'): -56.0}\n",
      "{('4', ('3', ('2', '1'))): -44.0, (('6', '5'), ('3', ('2', '1'))): -36.0, ('4', ('6', '5')): -36.0, ('7', ('3', ('2', '1'))): -34.0, ('7', '4'): -34.0, ('7', ('6', '5')): -38.0, ('8', ('3', ('2', '1'))): -34.0, ('8', '4'): -34.0, ('8', ('6', '5')): -38.0, ('8', '7'): -42.0}\n",
      "{(('6', '5'), ('4', ('3', ('2', '1')))): -28.0, ('7', ('4', ('3', ('2', '1')))): -26.0, ('7', ('6', '5')): -26.0, ('8', ('4', ('3', ('2', '1')))): -26.0, ('8', ('6', '5')): -26.0, ('8', '7'): -28.0}\n",
      "{('7', (('6', '5'), ('4', ('3', ('2', '1'))))): -18.0, ('8', (('6', '5'), ('4', ('3', ('2', '1'))))): -18.0, ('8', '7'): -18.0}\n"
     ]
    },
    {
     "data": {
      "text/plain": [
       "'(8:6.00,(7:2.00,((6:4.00,5:1.00):2.00,(4:3.00,(3:1.00,(2:2.00,1:5.00):2.00):1.00):2.00):1.00):6.00);'"
      ]
     },
     "execution_count": 16,
     "metadata": {},
     "output_type": "execute_result"
    }
   ],
   "source": [
    "NJ(test7)"
   ]
  },
  {
   "cell_type": "code",
   "execution_count": null,
   "metadata": {},
   "outputs": [],
   "source": []
  }
 ],
 "metadata": {
  "kernelspec": {
   "display_name": "Python 3",
   "language": "python",
   "name": "python3"
  },
  "language_info": {
   "codemirror_mode": {
    "name": "ipython",
    "version": 3
   },
   "file_extension": ".py",
   "mimetype": "text/x-python",
   "name": "python",
   "nbconvert_exporter": "python",
   "pygments_lexer": "ipython3",
   "version": "3.7.5"
  }
 },
 "nbformat": 4,
 "nbformat_minor": 2
}
