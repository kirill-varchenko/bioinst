{
 "cells": [
  {
   "cell_type": "code",
   "execution_count": 61,
   "metadata": {},
   "outputs": [],
   "source": [
    "def dict_min(D):\n",
    "    m, i, j = None, None, None\n",
    "    for a, b in D:\n",
    "        if m is None or D[(a,b)] < m:\n",
    "            m, i, j = D[(a,b)], a, b\n",
    "    return i, j"
   ]
  },
  {
   "cell_type": "code",
   "execution_count": 62,
   "metadata": {},
   "outputs": [],
   "source": [
    "def dict_flat(D):\n",
    "    res = dict()\n",
    "    for a in D:\n",
    "        for b in D[a]:\n",
    "            res[(a,b)] = D[a][b]\n",
    "    return res"
   ]
  },
  {
   "cell_type": "code",
   "execution_count": 63,
   "metadata": {},
   "outputs": [],
   "source": [
    "def nested_len(X):\n",
    "    if type(X) is tuple:\n",
    "        res = 0\n",
    "        for x in X:\n",
    "            res += nested_len(x)\n",
    "    else:\n",
    "        res = 1\n",
    "    return res"
   ]
  },
  {
   "cell_type": "code",
   "execution_count": 64,
   "metadata": {},
   "outputs": [],
   "source": [
    "def newick(structure):\n",
    "    lastkey = list(structure.keys())[-1]\n",
    "    \n",
    "    def helper(node, parent_len):\n",
    "        a, b = node\n",
    "        if type(a) is tuple:\n",
    "            l = helper(a, structure[node])\n",
    "        else:\n",
    "            l = f'{a}:{parent_len:.2f}'\n",
    "        if type(b) is tuple:\n",
    "            r = helper(b, structure[node])\n",
    "        else:\n",
    "            r = f'{b}:{parent_len:.2f}'\n",
    "        return f'({l},{r}):{parent_len-structure[node]:.2f}'\n",
    "        \n",
    "    res = helper(lastkey, structure[lastkey])\n",
    "    return res.replace(':0.00', ';')"
   ]
  },
  {
   "cell_type": "code",
   "execution_count": 65,
   "metadata": {},
   "outputs": [],
   "source": [
    "def WPGMA(dist):\n",
    "    res = dict()\n",
    "    M = dict_flat(dist)\n",
    "    \n",
    "    while len(M) > 1:\n",
    "        i, j = dict_min(M)\n",
    "        newM = dict()\n",
    "        for a, b in M:\n",
    "            if a in (i, j) and b in (i, j):\n",
    "                res[(i,j)] = M[(i,j)]/2\n",
    "            elif a in (i, j):\n",
    "                newM[((i,j), b)] = (M[(i,b) if (i,b) in M else (b,i)] + M[(j,b) if (j,b) in M else (b,j)])/2\n",
    "            elif b in (i, j):\n",
    "                newM[(a, (i,j))] = (M[(a,i) if (a,i) in M else (i,a)] + M[(a,j) if (a,j) in M else (j,a)])/2\n",
    "            else:\n",
    "                newM[(a,b)] = M[(a,b)]\n",
    "        M = newM\n",
    "    \n",
    "    return newick(res)"
   ]
  },
  {
   "cell_type": "code",
   "execution_count": 66,
   "metadata": {},
   "outputs": [],
   "source": [
    "def UPGMA(dist):\n",
    "    res = dict()\n",
    "    M = dict_flat(dist)\n",
    "    \n",
    "    while len(M) > 1:\n",
    "        i, j = dict_min(M)\n",
    "        i_len = nested_len(i)\n",
    "        j_len = nested_len(j)\n",
    "        newM = dict()\n",
    "        for a, b in M:\n",
    "            if a in (i, j) and b in (i, j):\n",
    "                res[(i,j)] = M[(i,j)]/2\n",
    "            elif a in (i, j):\n",
    "                newM[((i,j), b)] = (i_len*M[(i,b) if (i,b) in M else (b,i)] + j_len*M[(j,b) if (j,b) in M else (b,j)])/(i_len+j_len)\n",
    "            elif b in (i, j):\n",
    "                newM[(a, (i,j))] = (i_len*M[(a,i) if (a,i) in M else (i,a)] + j_len*M[(a,j) if (a,j) in M else (j,a)])/(i_len+j_len)\n",
    "            else:\n",
    "                newM[(a,b)] = M[(a,b)]\n",
    "        M = newM\n",
    "    \n",
    "    return newick(res)"
   ]
  },
  {
   "cell_type": "code",
   "execution_count": 67,
   "metadata": {},
   "outputs": [],
   "source": [
    "def NJ(dist):\n",
    "    n = len(dist)+1\n",
    "    M = dict_flat(dist)\n",
    "    \n",
    "    res = dict()\n",
    "    \n",
    "    while n > 2:   \n",
    "        Q = dict()\n",
    "\n",
    "        for a, b in M:\n",
    "            q = (n-3)*M[(a,b)]\n",
    "            for i,j in M:\n",
    "                if (a in (i,j) or b in (i,j)):\n",
    "                    q -= M[(i,j)]\n",
    "            Q[(a,b)] = q\n",
    "\n",
    "        a, b = dict_min(Q)\n",
    "\n",
    "        da = 0\n",
    "        for i, j in M:\n",
    "            if a in (i,j):\n",
    "                da += M[(i, j)]\n",
    "            if b in (i,j):\n",
    "                da -= M[(i, j)]\n",
    "        da /= 2*(n-2)\n",
    "        da += M[(a, b)]/2\n",
    "        db = M[(a, b)] - da\n",
    "\n",
    "        res[(a,b)] = (da, db)\n",
    "\n",
    "        newM = dict()\n",
    "        for i, j in M:\n",
    "            if (i,j) != (a,b):\n",
    "                if i in (a,b):\n",
    "                    newM[(j, (a,b))] = (M[(a,j) if (a,j) in M else (j,a)] + M[(b,j) if (b,j) in M else (j,b)] - M[(a,b)])/2\n",
    "                elif j in (a,b):\n",
    "                    newM[(i, (a,b))] = (M[(a,i) if (a,i) in M else (i,a)] + M[(b,i) if (b,i) in M else (i,b)] - M[(a,b)])/2\n",
    "                else:\n",
    "                    newM[(i,j)] = M[(i,j)]\n",
    "        n -= 1\n",
    "        M = newM\n",
    "\n",
    "    lastkey = list(M.keys())[0]\n",
    "    res[lastkey] = (M[lastkey], M[lastkey])\n",
    "    \n",
    "    def helper(node):\n",
    "        a, b = node\n",
    "        a_len, b_len = res[node]\n",
    "        if type(a) is tuple:\n",
    "            l = helper(a) + f':{a_len:.2f}'\n",
    "        else:\n",
    "            l = f'{a}:{a_len:.2f}'\n",
    "        if type(b) is tuple:\n",
    "            r = helper(b) + f':{b_len:.2f}'\n",
    "        else:\n",
    "            r = f'{b}:{b_len:.2f}'\n",
    "        return f'({l},{r})'\n",
    "    \n",
    "    return helper(lastkey) + ';'"
   ]
  },
  {
   "cell_type": "code",
   "execution_count": 68,
   "metadata": {},
   "outputs": [],
   "source": [
    "test1 = {'A': {'B': 16, 'C': 16, 'D': 10}, \n",
    "         'B': {'C': 8, 'D': 8}, \n",
    "         'C': {'D': 4}}\n",
    "test2 = {'A': {'B': 5, 'C': 4, 'D': 7, 'E': 6, 'F': 8}, \n",
    "         'B': {'C': 7, 'D': 10, 'E': 9, 'F': 11},\n",
    "         'C': {'D': 7, 'E': 6, 'F': 8},\n",
    "         'D': {'E': 5, 'F': 9},\n",
    "         'E': {'F': 8}}"
   ]
  },
  {
   "cell_type": "code",
   "execution_count": 69,
   "metadata": {},
   "outputs": [],
   "source": [
    "test3 = {'A': {'B': 17, 'C': 21, 'D': 31, 'E': 23}, \n",
    "         'B': {'C': 30, 'D': 34, 'E': 21},\n",
    "         'C': {'D': 28, 'E': 39},\n",
    "         'D': {'E': 43},\n",
    "         'E': {}}"
   ]
  },
  {
   "cell_type": "code",
   "execution_count": 70,
   "metadata": {},
   "outputs": [],
   "source": [
    "test4 = {'B': {'A': 19},\n",
    "'C': {'A': 27, 'B': 31},\n",
    "'D': {'A': 8, 'B': 18, 'C': 26},\n",
    "'E': {'A': 33, 'B': 36, 'C': 41, 'D': 31},\n",
    "'F': {'A': 18, 'B': 1, 'C': 32, 'D': 17, 'E': 35},\n",
    "'G': {'A': 13, 'B': 13, 'C': 29, 'D': 14, 'E': 28, 'F': 12}}"
   ]
  },
  {
   "cell_type": "code",
   "execution_count": 71,
   "metadata": {},
   "outputs": [],
   "source": [
    "test5 = {'b': {'a': 5},\n",
    "'c': {'a': 9, 'b': 10},\n",
    "'d': {'a': 9, 'b': 10, 'c':8},\n",
    "'e': {'a': 8, 'b': 9, 'c': 7, 'd': 3}}"
   ]
  },
  {
   "cell_type": "code",
   "execution_count": 72,
   "metadata": {},
   "outputs": [],
   "source": [
    "test6 = {'B': {'A': 5},\n",
    "'C': {'A': 4, 'B': 7},\n",
    "'D': {'A': 7, 'B': 10, 'C': 7},\n",
    "'E': {'A': 6, 'B': 9, 'C': 6, 'D': 5},\n",
    "'F': {'A': 8, 'B': 11, 'C': 8, 'D': 9, 'E': 8}}"
   ]
  },
  {
   "cell_type": "code",
   "execution_count": 73,
   "metadata": {},
   "outputs": [],
   "source": [
    "tests = {'1': test1, '2': test2, '3': test3, '4': test4, '5': test5, '6': test6}"
   ]
  },
  {
   "cell_type": "code",
   "execution_count": 74,
   "metadata": {},
   "outputs": [
    {
     "name": "stdout",
     "output_type": "stream",
     "text": [
      "test: 1\n"
     ]
    }
   ],
   "source": [
    "test = input('test: ')"
   ]
  },
  {
   "cell_type": "code",
   "execution_count": 76,
   "metadata": {},
   "outputs": [
    {
     "data": {
      "text/plain": [
       "'(B:4.00,(C:4.00,D:4.00):2.00);'"
      ]
     },
     "execution_count": 76,
     "metadata": {},
     "output_type": "execute_result"
    }
   ],
   "source": [
    "UPGMA(tests[test])"
   ]
  },
  {
   "cell_type": "code",
   "execution_count": 77,
   "metadata": {},
   "outputs": [
    {
     "data": {
      "text/plain": [
       "'(B:4.00,(C:4.00,D:4.00):2.00);'"
      ]
     },
     "execution_count": 77,
     "metadata": {},
     "output_type": "execute_result"
    }
   ],
   "source": [
    "WPGMA(tests[test])"
   ]
  },
  {
   "cell_type": "code",
   "execution_count": 78,
   "metadata": {},
   "outputs": [
    {
     "data": {
      "text/plain": [
       "'(C:3.00,(B:5.00,(A:10.00,D:0.00):2.00):3.00);'"
      ]
     },
     "execution_count": 78,
     "metadata": {},
     "output_type": "execute_result"
    }
   ],
   "source": [
    "NJ(tests[test])"
   ]
  }
 ],
 "metadata": {
  "kernelspec": {
   "display_name": "Python 3",
   "language": "python",
   "name": "python3"
  },
  "language_info": {
   "codemirror_mode": {
    "name": "ipython",
    "version": 3
   },
   "file_extension": ".py",
   "mimetype": "text/x-python",
   "name": "python",
   "nbconvert_exporter": "python",
   "pygments_lexer": "ipython3",
   "version": "3.7.5"
  }
 },
 "nbformat": 4,
 "nbformat_minor": 2
}
