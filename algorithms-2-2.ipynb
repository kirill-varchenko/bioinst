{
 "cells": [
  {
   "cell_type": "code",
   "execution_count": 7,
   "metadata": {},
   "outputs": [],
   "source": [
    "def needleman_wunsch2(A, B, kappa = 1, mu = -1, delta = -1, epsilon = -1):\n",
    "    \"\"\"\n",
    "        Needleman-Wunsch algorithm for sequience alignment with affine gap penalty (Gotoh method).\n",
    "\n",
    "        Parameters\n",
    "        ----------\n",
    "        A, B : str\n",
    "            Two sequiences\n",
    "        kappa : num, optional \n",
    "            Match reward (default is +1)\n",
    "        mu : num, optional\n",
    "            Mismatch penalty (default is -1)\n",
    "        delta : num, optional\n",
    "            Gap open penalty (default is -1)\n",
    "        epsilon : num, optional\n",
    "            Gap extend penalty (default is -1)\n",
    "        \"\"\"\n",
    "\n",
    "    n = len(A)\n",
    "    m = len(B)\n",
    "\n",
    "    # Best score table\n",
    "    D = [[delta + (i-1)*epsilon for i in range(n+1)] if j == 0 else [delta + (j-1)*epsilon] + [0]*n for j in range(m+1)]\n",
    "    D[0][0] = 0\n",
    "    # Score if x_i aligns to a gap after y_j\n",
    "    P = [[-1000] + [0] * (n) for _ in range(m+1)]\n",
    "    P[0][0] = 0\n",
    "    # Score if y_j aligns to a gap after x_i\n",
    "    Q = [([-1000] * (n+1) if j == 0 else [0] * (n+1)) for j in range(m+1)]\n",
    "    Q[0][0] = 0\n",
    " \n",
    "    # Filling the table\n",
    "    for i in range(1, n+1):\n",
    "        for j in range(1, m+1):\n",
    "            P[j][i] = max(D[j][i-1]+delta, P[j][i-1]+epsilon)\n",
    "            Q[j][i] = max(D[j-1][i]+delta, Q[j-1][i]+epsilon)\n",
    "            D[j][i] = max(D[j-1][i-1] + (kappa if A[i-1] == B[j-1] else mu), \n",
    "                        P[j][i], \n",
    "                        Q[j][i])\n",
    "\n",
    "    # Tracing path back to origin\n",
    "    i = n\n",
    "    j = m\n",
    "    A_aligned = ''\n",
    "    B_aligned = ''\n",
    "    table = 'D'\n",
    "\n",
    "    while i > 0 or j > 0:\n",
    "        if i == 0:\n",
    "            table = 'Q'\n",
    "        elif j == 0:\n",
    "            table = 'P'\n",
    "\n",
    "        if table == 'D':\n",
    "            if D[j][i] == Q[j][i]:\n",
    "                # Switch table\n",
    "                table = 'Q'\n",
    "            elif D[j][i] == P[j][i]:\n",
    "                # Switch table\n",
    "                table = 'P'\n",
    "            elif D[j][i] == D[j-1][i-1] + (kappa if A[i-1] == B[j-1] else mu):\n",
    "                # Came from left-top \n",
    "                A_aligned = A[i-1] + A_aligned\n",
    "                B_aligned = B[j-1] + B_aligned\n",
    "                i -= 1\n",
    "                j -= 1\n",
    "            \n",
    "        elif table == 'P':\n",
    "            if P[j][i] == D[j][i-1] + delta:\n",
    "                table = 'D'\n",
    "            A_aligned = A[i-1] + A_aligned\n",
    "            B_aligned = '_' + B_aligned\n",
    "            i -= 1\n",
    "        elif table == 'Q':\n",
    "            if Q[j][i] == D[j-1][i] + delta:\n",
    "                table = 'D'\n",
    "            A_aligned = '_' + A_aligned\n",
    "            B_aligned = B[j-1] + B_aligned\n",
    "            j -= 1\n",
    "\n",
    "    # Return two aligned sequiences and total score\n",
    "    return A_aligned, B_aligned, D[m][n]"
   ]
  },
  {
   "cell_type": "code",
   "execution_count": 8,
   "metadata": {},
   "outputs": [],
   "source": [
    "def affine_gap_alignment(seq1, seq2, weight_match, weight_mismatch, open_gap_penalty, continue_gap_penalty):\n",
    "    a, b, t = needleman_wunsch2(seq1, seq2, kappa = weight_match, mu = weight_mismatch, delta = open_gap_penalty, epsilon = continue_gap_penalty)\n",
    "    print(a)\n",
    "    print(b)"
   ]
  },
  {
   "cell_type": "code",
   "execution_count": 9,
   "metadata": {},
   "outputs": [],
   "source": [
    "A = 'ACCT'\n",
    "B = 'CC'"
   ]
  },
  {
   "cell_type": "code",
   "execution_count": 10,
   "metadata": {},
   "outputs": [
    {
     "name": "stdout",
     "output_type": "stream",
     "text": [
      "ACCT\n",
      "CC__\n"
     ]
    }
   ],
   "source": [
    "affine_gap_alignment(A, B, 1, -1, -5, -1)"
   ]
  },
  {
   "cell_type": "code",
   "execution_count": 11,
   "metadata": {},
   "outputs": [
    {
     "name": "stdout",
     "output_type": "stream",
     "text": [
      "ACCT\n",
      "_CC_\n"
     ]
    }
   ],
   "source": [
    "affine_gap_alignment(A, B, 3, -1, -3, -1)"
   ]
  },
  {
   "cell_type": "code",
   "execution_count": null,
   "metadata": {},
   "outputs": [],
   "source": []
  }
 ],
 "metadata": {
  "kernelspec": {
   "display_name": "Python 3",
   "language": "python",
   "name": "python3"
  },
  "language_info": {
   "codemirror_mode": {
    "name": "ipython",
    "version": 3
   },
   "file_extension": ".py",
   "mimetype": "text/x-python",
   "name": "python",
   "nbconvert_exporter": "python",
   "pygments_lexer": "ipython3",
   "version": "3.7.5"
  }
 },
 "nbformat": 4,
 "nbformat_minor": 2
}
