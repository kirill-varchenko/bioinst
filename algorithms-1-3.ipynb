{
 "cells": [
  {
   "cell_type": "code",
   "execution_count": 2,
   "metadata": {},
   "outputs": [],
   "source": [
    "def needleman_wunsch1(A, B, S, delta = -1):\n",
    "    \"\"\"\n",
    "        Needleman-Wunsch algorithm for sequience alignment with similarity matrix and linear gap penalty.\n",
    "\n",
    "        Parameters\n",
    "        ----------\n",
    "        A, B : str\n",
    "            Two sequiences\n",
    "        S : matrix\n",
    "            Similarity matrix\n",
    "        delta : num, optional\n",
    "            Gap penalty (default is -1)\n",
    "        \"\"\"\n",
    "\n",
    "    n = len(A)\n",
    "    m = len(B)\n",
    "\n",
    "    # Initial score table\n",
    "    T = [[delta*i for i in range(n+1)] if j == 0 else [delta*j] + [0]*n for j in range(m+1)]\n",
    "\n",
    "    # Filling the table\n",
    "    for i in range(1, n+1):\n",
    "        for j in range(1, m+1):\n",
    "            candidates = (T[j-1][i-1] + S[A[i-1]][B[j-1]], # go from left-top\n",
    "                        T[j-1][i] + delta, # go from top\n",
    "                        T[j][i-1] + delta) # go from left\n",
    "            T[j][i] = max(candidates)\n",
    "\n",
    "    # Tracing path back to origin\n",
    "    i = n\n",
    "    j = m\n",
    "    A_aligned = ''\n",
    "    B_aligned = ''\n",
    "\n",
    "    while i > 0 or j > 0:\n",
    "        if i > 0 and j > 0 and T[j][i] == T[j-1][i-1] + S[A[i-1]][B[j-1]]:\n",
    "            # Came from left-top \n",
    "            A_aligned = A[i-1] + A_aligned\n",
    "            B_aligned = B[j-1] + B_aligned\n",
    "            i -= 1\n",
    "            j -= 1 \n",
    "        elif j > 0 and T[j][i] == T[j-1][i] + delta:\n",
    "            # Came from top \n",
    "            A_aligned = '_' + A_aligned\n",
    "            B_aligned = B[j-1] + B_aligned\n",
    "            j -= 1\n",
    "        else:\n",
    "            # Came from left\n",
    "            A_aligned = A[i-1] + A_aligned\n",
    "            B_aligned = '_' + B_aligned\n",
    "            i -= 1\n",
    "\n",
    "    # Return two aligned sequiences and total score\n",
    "    return A_aligned, B_aligned, T[m][n]"
   ]
  },
  {
   "cell_type": "code",
   "execution_count": 3,
   "metadata": {},
   "outputs": [],
   "source": [
    "A = 'RKANRK'\n",
    "B = 'RANNAKA'"
   ]
  },
  {
   "cell_type": "code",
   "execution_count": 4,
   "metadata": {},
   "outputs": [],
   "source": [
    "S1 = {'A': {'A': 5, 'R': -2, 'N': -1, 'K': -1},\n",
    "      'R': {'A': -2, 'R': 7, 'N': -1, 'K': 3},\n",
    "      'N': {'A': -1, 'R': -1, 'N': 7, 'K': 0},\n",
    "      'K': {'A': -1, 'R': 3, 'N': 0, 'K': 6}}"
   ]
  },
  {
   "cell_type": "code",
   "execution_count": 5,
   "metadata": {},
   "outputs": [
    {
     "data": {
      "text/plain": [
       "('RKANR_K_', 'R_ANNAKA', 21)"
      ]
     },
     "execution_count": 5,
     "metadata": {},
     "output_type": "execute_result"
    }
   ],
   "source": [
    "needleman_wunsch1(A, B, S1)"
   ]
  },
  {
   "cell_type": "code",
   "execution_count": 6,
   "metadata": {},
   "outputs": [],
   "source": [
    "S2 = {'A': {'A': 5, 'R': -2, 'N': -1, 'K': -1},\n",
    "      'R': {'A': -2, 'R': 7, 'N': -3, 'K': 3},\n",
    "      'N': {'A': -1, 'R': -3, 'N': 7, 'K': 0},\n",
    "      'K': {'A': -1, 'R': 3, 'N': 0, 'K': 6}}"
   ]
  },
  {
   "cell_type": "code",
   "execution_count": 7,
   "metadata": {},
   "outputs": [
    {
     "data": {
      "text/plain": [
       "('RKA_NRK_', 'R_ANNAKA', 20)"
      ]
     },
     "execution_count": 7,
     "metadata": {},
     "output_type": "execute_result"
    }
   ],
   "source": [
    "needleman_wunsch1(A, B, S2)"
   ]
  },
  {
   "cell_type": "code",
   "execution_count": null,
   "metadata": {},
   "outputs": [],
   "source": []
  }
 ],
 "metadata": {
  "kernelspec": {
   "display_name": "Python 3",
   "language": "python",
   "name": "python3"
  },
  "language_info": {
   "codemirror_mode": {
    "name": "ipython",
    "version": 3
   },
   "file_extension": ".py",
   "mimetype": "text/x-python",
   "name": "python",
   "nbconvert_exporter": "python",
   "pygments_lexer": "ipython3",
   "version": "3.7.5"
  }
 },
 "nbformat": 4,
 "nbformat_minor": 2
}
